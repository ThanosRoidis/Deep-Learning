{
 "cells": [
  {
   "cell_type": "code",
   "execution_count": 53,
   "metadata": {
    "collapsed": true
   },
   "outputs": [],
   "source": [
    "import numpy as np"
   ]
  },
  {
   "cell_type": "code",
   "execution_count": 54,
   "metadata": {
    "collapsed": true
   },
   "outputs": [],
   "source": [
    "X = np.array([[0.75, 0.80],\n",
    "              [0.20, 0.05],\n",
    "              [-0.75, 0.8],\n",
    "              [0.2, -0.05]])\n",
    "\n",
    "W1 = np.array([[0.6, 0.7, 0],\n",
    "               [0.01, 0.43, 0.88]])\n",
    "\n",
    "W2 = np.array([[0.02],[0.03],[0.09]])\n",
    "\n",
    "Y = np.array([[1], [1], [-1], [-1]])"
   ]
  },
  {
   "cell_type": "code",
   "execution_count": 123,
   "metadata": {
    "collapsed": true
   },
   "outputs": [],
   "source": [
    "#ReLu\n",
    "def f(x):\n",
    "    return np.maximum(x,0)\n",
    "#ReLu derivative\n",
    "def f_p(x):\n",
    "    x2 = x.copy()\n",
    "    x2[np.where(x2 > 0)] = 1\n",
    "    x2[np.where(x2 < 0)] = 0\n",
    "    \n",
    "    return x2"
   ]
  },
  {
   "cell_type": "code",
   "execution_count": 124,
   "metadata": {},
   "outputs": [
    {
     "name": "stdout",
     "output_type": "stream",
     "text": [
      "[[ 0.51518251  0.97856712  0.7431851 ]\n",
      " [ 0.12887294  0.17753243  0.05564313]\n",
      " [ 0.          0.          0.65312079]\n",
      " [ 0.12366331  0.1264597   0.        ]]\n"
     ]
    }
   ],
   "source": [
    "S1 = np.dot(X,W1)\n",
    "Z1 = f(S1)\n",
    "\n",
    "print(Z1)"
   ]
  },
  {
   "cell_type": "code",
   "execution_count": 125,
   "metadata": {},
   "outputs": [
    {
     "name": "stdout",
     "output_type": "stream",
     "text": [
      "[[ 0.54621674]\n",
      " [ 0.1072512 ]\n",
      " [-0.00236738]\n",
      " [ 0.08362232]]\n"
     ]
    }
   ],
   "source": [
    "S2 = np.dot(Z1, W2)\n",
    "Z2 = S2\n",
    "Y_out = Z2\n",
    "\n",
    "print(Z2)"
   ]
  },
  {
   "cell_type": "code",
   "execution_count": 126,
   "metadata": {},
   "outputs": [
    {
     "data": {
      "text/plain": [
       "0.39655348005197949"
      ]
     },
     "execution_count": 126,
     "metadata": {},
     "output_type": "execute_result"
    }
   ],
   "source": [
    "L = 0.5 * np.power(Y_out - Y,2)\n",
    "np.mean(L)"
   ]
  },
  {
   "cell_type": "code",
   "execution_count": 127,
   "metadata": {},
   "outputs": [
    {
     "name": "stdout",
     "output_type": "stream",
     "text": [
      "[[-0.45378326]\n",
      " [-0.8927488 ]\n",
      " [ 0.        ]\n",
      " [ 1.08362232]]\n"
     ]
    }
   ],
   "source": [
    "#d_out = np.multiply((Y_out - Y),f_p(S2))\n",
    "d_out = np.multiply((Y_out - Y),1)\n",
    "\n",
    "print(d_out)"
   ]
  },
  {
   "cell_type": "code",
   "execution_count": 128,
   "metadata": {},
   "outputs": [
    {
     "name": "stdout",
     "output_type": "stream",
     "text": [
      "[[-0.10084868 -0.20144858  0.00164484]\n",
      " [-0.19840427 -0.39631911  0.00323596]\n",
      " [ 0.          0.         -0.        ]\n",
      " [ 0.24082396  0.48105383 -0.        ]]\n"
     ]
    }
   ],
   "source": [
    "d_1 = np.multiply(f_p(S1), np.dot(W2, d_out.T).T)\n",
    "print(d_1)"
   ]
  },
  {
   "cell_type": "code",
   "execution_count": 129,
   "metadata": {},
   "outputs": [
    {
     "name": "stdout",
     "output_type": "stream",
     "text": [
      "[[-0.01678814 -0.03353487  0.00047021]\n",
      " [-0.02566009 -0.05125688  0.00036942]]\n"
     ]
    }
   ],
   "source": [
    "dW1 = np.dot(X.T , d_1) / X.shape[0] \n",
    "print(dW1)"
   ]
  },
  {
   "cell_type": "code",
   "execution_count": 130,
   "metadata": {},
   "outputs": [
    {
     "name": "stdout",
     "output_type": "stream",
     "text": [
      "[[-0.05370701]\n",
      " [-0.11637867]\n",
      " [-0.09673007]]\n"
     ]
    }
   ],
   "source": [
    "dW2 = np.dot(Z1.T , d_out) / X.shape[0]\n",
    "print(dW2)"
   ]
  },
  {
   "cell_type": "code",
   "execution_count": 131,
   "metadata": {
    "collapsed": true
   },
   "outputs": [],
   "source": [
    "a = 0.5\n",
    "\n",
    "W1 = W1 - a * dW1\n",
    "W2 = W2 - a * dW2"
   ]
  },
  {
   "cell_type": "code",
   "execution_count": null,
   "metadata": {
    "collapsed": true
   },
   "outputs": [],
   "source": []
  },
  {
   "cell_type": "code",
   "execution_count": null,
   "metadata": {
    "collapsed": true
   },
   "outputs": [],
   "source": []
  }
 ],
 "metadata": {
  "kernelspec": {
   "display_name": "Python 2",
   "language": "python",
   "name": "python2"
  },
  "language_info": {
   "codemirror_mode": {
    "name": "ipython",
    "version": 2
   },
   "file_extension": ".py",
   "mimetype": "text/x-python",
   "name": "python",
   "nbconvert_exporter": "python",
   "pygments_lexer": "ipython2",
   "version": "2.7.13"
  }
 },
 "nbformat": 4,
 "nbformat_minor": 2
}
