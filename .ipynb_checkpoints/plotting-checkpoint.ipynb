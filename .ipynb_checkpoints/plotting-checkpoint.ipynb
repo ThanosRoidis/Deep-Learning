{
 "cells": [
  {
   "cell_type": "code",
   "execution_count": 1,
   "metadata": {
    "collapsed": true
   },
   "outputs": [],
   "source": [
    "import tensorflow as tf\n",
    "import pandas as pd\n",
    "import matplotlib.pyplot as plt\n",
    "import glob\n",
    "import pickle as picklerick\n",
    "from tensorboard.backend.event_processing import event_accumulator\n",
    "%matplotlib inline"
   ]
  },
  {
   "cell_type": "code",
   "execution_count": 12,
   "metadata": {
    "collapsed": true
   },
   "outputs": [],
   "source": [
    "files = glob.glob( './Assignment 2/part1/summaries/**/*')\n",
    "files = sorted(files)\n",
    "eas = []\n",
    "for filepath in files:\n",
    "    ea = event_accumulator.EventAccumulator(filepath,\n",
    "        size_guidance={ # see below regarding this argument\n",
    "        event_accumulator.COMPRESSED_HISTOGRAMS: 0,\n",
    "        event_accumulator.IMAGES: 0,\n",
    "        event_accumulator.AUDIO: 0,\n",
    "        event_accumulator.SCALARS: 0,\n",
    "        event_accumulator.HISTOGRAMS: 0,\n",
    "       })\n",
    "    ea.Reload()\n",
    "    eas.append(ea)\n",
    "files"
   ]
  },
  {
   "cell_type": "markdown",
   "metadata": {},
   "source": [
    "### Assignment 2"
   ]
  },
  {
   "cell_type": "code",
   "execution_count": 14,
   "metadata": {},
   "outputs": [
    {
     "name": "stdout",
     "output_type": "stream",
     "text": [
      "LSTM_05_0.001: 0.990234375 240\n",
      "LSTM_05_0.025: 1.0 120\n",
      "LSTM_05_0.25: 1.0 115\n",
      "LSTM_10_0.001: 0.984375 315\n",
      "LSTM_10_0.025: 1.0 185\n",
      "LSTM_10_0.25: 0.099609375 2495\n",
      "LSTM_20_0.001: 0.544921875 2495\n",
      "LSTM_20_0.025: 0.0859375 2495\n",
      "LSTM_20_0.25: 1.0 140\n",
      "LSTM_30_0.001: 0.091796875 2495\n",
      "LSTM_30_0.025: 0.095703125 2495\n",
      "LSTM_30_0.25: 1.0 140\n",
      "LSTM_40_0.001: 0.08203125 2495\n",
      "LSTM_40_0.025: 0.087890625 2495\n",
      "LSTM_40_0.25: 1.0 135\n",
      "LSTM_50_0.001: 0.0859375 2495\n",
      "LSTM_50_0.025: 0.0859375 2495\n",
      "LSTM_50_0.25: 1.0 285\n",
      "RNN_05_0.001: 0.9921875 100\n",
      "RNN_05_0.025: 0.99609375 45\n",
      "RNN_05_0.25: 1.0 25\n",
      "RNN_10_0.001: 0.990234375 140\n",
      "RNN_10_0.025: 0.40234375 2495\n",
      "RNN_10_0.25: 0.1015625 2495\n",
      "RNN_20_0.001: 1.0 530\n",
      "RNN_20_0.025: 0.1015625 2495\n",
      "RNN_20_0.25: 0.099609375 2495\n",
      "RNN_30_0.001: 0.216796875 2495\n",
      "RNN_30_0.025: 0.21875 2495\n",
      "RNN_30_0.25: 0.107421875 2495\n",
      "RNN_40_0 .001_2: 0.201171875 2495\n",
      "RNN_40_0.001: 0.5546875 2495\n",
      "RNN_40_0.025: 0.251953125 2495\n",
      "RNN_40_0.25: 0.185546875 2495\n",
      "RNN_50_0.001: 0.08984375 2495\n",
      "RNN_50_0.025: 0.111328125 2495\n",
      "RNN_50_0.25: 0.08203125 2495\n"
     ]
    },
    {
     "data": {
      "text/plain": [
       "' \\nRNN_05_0.25: 1.0 25\\n\\nRNN_10_0.001: 0.990234375 140 \\n\\nRNN_20_0.001: 1.0 530  \\n \\nRNN_30_0.025: 0.21875 2495 \\n\\nRNN_40_0.001: 0.5546875 2495 \\n \\nRNN_50_0.025: 0.111328125 2495 \\n'"
      ]
     },
     "execution_count": 14,
     "metadata": {},
     "output_type": "execute_result"
    }
   ],
   "source": [
    "\n",
    "RNN_res = []\n",
    "\n",
    "for i, filename in enumerate(files):\n",
    "    ea = eas[i]\n",
    "    \n",
    "    value = 0\n",
    "    for j in range(-4,0):\n",
    "        value += ea.Scalars('accuracy_1')[j][2]\n",
    "    \n",
    "    value = value/4\n",
    "    \n",
    "    step = ea.Scalars('accuracy_1')[-1][1]\n",
    "\n",
    "    \n",
    "    \n",
    "    \n",
    "    model_name = filename.split('/')[-2]\n",
    "    \n",
    "    model_type = filename.split('_')[0]\n",
    "    length = filename.split('_')[1]\n",
    "    lr = filename.split('_')[2]\n",
    "    \n",
    "    print(\"{}: {} {}\".format(model_name, value, step))\n",
    "    \n",
    "    \n",
    "[115, 185, 140, 140, 135, 285]\n",
    "\n",
    "\"\"\" \n",
    "LSTM_05_0.25: 1.0 115\n",
    "\n",
    "LSTM_10_0.025: 1.0 185\n",
    "\n",
    "LSTM_20_0.25: 1.0 140\n",
    "\n",
    "LSTM_30_0.25: 1.0 140\n",
    "\n",
    "LSTM_40_0.25: 1.0 135\n",
    "\n",
    "LSTM_50_0.25: 1.0 285\"\"\n",
    "\"\"\"\n",
    "\n",
    "\"\"\" \n",
    "RNN_05_0.25: 1.0 25\n",
    "\n",
    "RNN_10_0.001: 0.990234375 140 \n",
    "\n",
    "RNN_20_0.001: 1.0 530  \n",
    " \n",
    "RNN_30_0.025: 0.21875 2495 \n",
    "\n",
    "RNN_40_0.001: 0.5546875 2495 \n",
    " \n",
    "RNN_50_0.025: 0.111328125 2495 \n",
    "\"\"\"\n",
    "\n",
    " "
   ]
  },
  {
   "cell_type": "code",
   "execution_count": 15,
   "metadata": {},
   "outputs": [
    {
     "data": {
      "image/png": "[encoded data removed]",
      "text/plain": [
       "<matplotlib.figure.Figure at 0x7fd515071b00>"
      ]
     },
     "metadata": {},
     "output_type": "display_data"
    }
   ],
   "source": [
    "x = [5, 10, 20, 30, 40, 50]\n",
    "y = [1.0 , 0.990234375 , 1.0, 0.21875  , 0.20, 0.111328125]\n",
    "\n",
    "plt.plot(x,y)\n",
    "plt.xlabel('Sequence length')\n",
    "plt.ylabel('Final accuracy')\n",
    "plt.legend(['RNN'])\n",
    "\n",
    "plt.show()"
   ]
  },
  {
   "cell_type": "code",
   "execution_count": 8,
   "metadata": {
    "scrolled": true
   },
   "outputs": [
    {
     "data": {
      "image/png": "[encoded data removed]",
      "text/plain": [
       "<matplotlib.figure.Figure at 0x7fd51dd0f160>"
      ]
     },
     "metadata": {},
     "output_type": "display_data"
    }
   ],
   "source": [
    "x = [5, 10, 20, 30, 40, 50]\n",
    "y = [115, 185, 140, 140, 135, 285]\n",
    "\n",
    "plt.plot(x,y)\n",
    "plt.xlabel('Sequence length')\n",
    "plt.ylabel('Convergence step')\n",
    "plt.legend(['LSTM'])\n",
    "\n",
    "plt.show()"
   ]
  },
  {
   "cell_type": "code",
   "execution_count": null,
   "metadata": {
    "collapsed": true
   },
   "outputs": [],
   "source": [
    "eas[0].Scalars('accuracy_1')"
   ]
  },
  {
   "cell_type": "code",
   "execution_count": null,
   "metadata": {
    "collapsed": true
   },
   "outputs": [],
   "source": [
    "eas[0].Scalars('accuracy_1')[0]"
   ]
  },
  {
   "cell_type": "code",
   "execution_count": null,
   "metadata": {
    "collapsed": true
   },
   "outputs": [],
   "source": [
    "eas[0].Scalars('accuracy_1')[0][2]"
   ]
  },
  {
   "cell_type": "code",
   "execution_count": null,
   "metadata": {
    "collapsed": true
   },
   "outputs": [],
   "source": [
    "import copy\n",
    "# tags = ['test_accuracy', 'training_accuracy','training_loss']\n",
    "tags = ['training_accuracy','training_loss']\n",
    "batches = 1501\n",
    "for tag in tags:\n",
    "    frames = []\n",
    "\n",
    "    for ea in eas:\n",
    "        frames.append(pd.DataFrame(ea.Scalars(tag)))\n",
    "\n",
    "    fig = plt.figure()\n",
    "    ax = frames[0].plot(x='step' , y='value')\n",
    "    frames = frames[1:]\n",
    "    for frame in frames:\n",
    "        ax = frame.plot(x='step' , y='value', ax=ax)\n",
    "#     plt.legend(['ConvNet base', 'with dropout', 'with batch normalization', 'with data augmentation', 'adagrad 1e-4', 'adagrad 1e-3', 'adadelta 1e-4', 'adadelta 1e-3', 'rmsprop 1e-4', 'rmsprop 1e-3'])\n",
    "    plt.legend(['length 30', 'length 60', 'with batch normalization', 'with data augmentation', 'adagrad 1e-4', 'adagrad 1e-3', 'adadelta 1e-4', 'adadelta 1e-3', 'rmsprop 1e-4', 'rmsprop 1e-3'])\n",
    "    \n",
    "    s = tag.replace('_', ' ')\n",
    "    plt.xlabel('iterations')\n",
    "    plt.ylabel(s)\n",
    "    title = copy.copy(s)\n",
    "    title = title[0].upper() + title[1:]\n",
    "    plt.title(title)\n",
    "#     ax.set_xlim([0, batches+100])\n",
    "#     if 'test' in tag:\n",
    "#         plt.xticks(np.arange(100, batches, 200))\n",
    "    plt.savefig('./plots/convnet/improvements/' + tag+'.pdf')\n",
    "    plt.show()"
   ]
  },
  {
   "cell_type": "code",
   "execution_count": null,
   "metadata": {
    "collapsed": true
   },
   "outputs": [],
   "source": [
    "import numpy as np\n",
    "\n",
    "with open(\"train_losses.dat\", \"rb\") as f:\n",
    "    train_losses = picklerick.load(f)\n",
    "\n",
    "with open(\"train_accs.dat\", \"rb\") as f:\n",
    "    train_accs = picklerick.load(f)\n",
    "\n",
    "with open(\"test_accs.dat\", \"rb\") as f:\n",
    "    test_accs = picklerick.load(f)\n",
    "\n",
    "x = np.arange(100, 1505, 100)\n",
    "plt.figure()\n",
    "plt.plot(train_accs)\n",
    "plt.xlabel('steps')\n",
    "plt.ylabel('accuracy')\n",
    "plt.title('Training accuracy')\n",
    "plt.savefig('training_acc_mlp_numpy.pdf')\n",
    "plt.show()\n",
    "\n",
    "plt.figure()\n",
    "ax = plt.plot(x, test_accs)\n",
    "plt.xlabel('steps')\n",
    "plt.ylabel('accuracy')\n",
    "plt.title('Test accuracy')\n",
    "plt.savefig('test_acc_mlp_numpy.pdf')\n",
    "plt.xticks(np.arange(100, 1505, 200))\n",
    "plt.show()\n",
    "\n",
    "plt.figure()\n",
    "plt.plot(train_losses)\n",
    "plt.xlabel('steps')\n",
    "plt.ylabel('loss')\n",
    "plt.title('Training loss')\n",
    "plt.savefig('training_loss_mlp_numpy.pdf')\n",
    "plt.show()"
   ]
  }
 ],
 "metadata": {
  "kernelspec": {
   "display_name": "Python 3",
   "language": "python",
   "name": "python3"
  },
  "language_info": {
   "codemirror_mode": {
    "name": "ipython",
    "version": 3
   },
   "file_extension": ".py",
   "mimetype": "text/x-python",
   "name": "python",
   "nbconvert_exporter": "python",
   "pygments_lexer": "ipython3",
   "version": "3.6.3"
  }
 },
 "nbformat": 4,
 "nbformat_minor": 2
}
