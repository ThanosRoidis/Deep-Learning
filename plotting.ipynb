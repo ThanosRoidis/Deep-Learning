{
 "cells": [
  {
   "cell_type": "code",
   "execution_count": 5,
   "metadata": {
    "collapsed": true
   },
   "outputs": [],
   "source": [
    "import tensorflow as tf\n",
    "import pandas as pd\n",
    "import matplotlib.pyplot as plt\n",
    "import glob\n",
    "import pickle as picklerick\n",
    "from tensorboard.backend.event_processing import event_accumulator\n",
    "%matplotlib inline"
   ]
  },
  {
   "cell_type": "code",
   "execution_count": 7,
   "metadata": {},
   "outputs": [
    {
     "data": {
      "text/plain": [
       "['/home/thanos/Desktop/NB_log_prob/NB_test_events',\n",
       " '/home/thanos/Desktop/NB_log_prob/NB_train_events']"
      ]
     },
     "execution_count": 7,
     "metadata": {},
     "output_type": "execute_result"
    }
   ],
   "source": [
    "\n",
    "files = glob.glob( '/home/thanos/Desktop/NB_log_prob/*')\n",
    "# files = glob.glob( './Assignment 2/part1/summaries/**/*')\n",
    "files = sorted(files)\n",
    "eas = []\n",
    "for filepath in files:\n",
    "    ea = event_accumulator.EventAccumulator(filepath,\n",
    "        size_guidance={ # see below regarding this argument\n",
    "        event_accumulator.COMPRESSED_HISTOGRAMS: 0,\n",
    "        event_accumulator.IMAGES: 0,\n",
    "        event_accumulator.AUDIO: 0,\n",
    "        event_accumulator.SCALARS: 0,\n",
    "        event_accumulator.HISTOGRAMS: 0,\n",
    "       })\n",
    "    ea.Reload()\n",
    "    eas.append(ea)\n",
    "files"
   ]
  },
  {
   "cell_type": "code",
   "execution_count": 15,
   "metadata": {},
   "outputs": [
    {
     "ename": "TypeError",
     "evalue": "'method' object is not subscriptable",
     "output_type": "error",
     "traceback": [
      "\u001b[0;31m---------------------------------------------------------------------------\u001b[0m",
      "\u001b[0;31mTypeError\u001b[0m                                 Traceback (most recent call last)",
      "\u001b[0;32m<ipython-input-15-21978cd79114>\u001b[0m in \u001b[0;36m<module>\u001b[0;34m()\u001b[0m\n\u001b[0;32m----> 1\u001b[0;31m \u001b[0meas\u001b[0m\u001b[0;34m[\u001b[0m\u001b[0;36m0\u001b[0m\u001b[0;34m]\u001b[0m\u001b[0;34m.\u001b[0m\u001b[0mScalars\u001b[0m\u001b[0;34m[\u001b[0m\u001b[0;34m'Log_prob'\u001b[0m\u001b[0;34m]\u001b[0m\u001b[0;34m\u001b[0m\u001b[0m\n\u001b[0m\u001b[1;32m      2\u001b[0m \u001b[0;31m# eas[0].Scalars('Log_prob')\u001b[0m\u001b[0;34m\u001b[0m\u001b[0;34m\u001b[0m\u001b[0m\n",
      "\u001b[0;31mTypeError\u001b[0m: 'method' object is not subscriptable"
     ]
    }
   ],
   "source": [
    "eas[0].Scalars['Log_prob']\n",
    "# eas[0].Scalars('Log_prob') "
   ]
  },
  {
   "cell_type": "markdown",
   "metadata": {},
   "source": [
    "### Assignment 2"
   ]
  },
  {
   "cell_type": "code",
   "execution_count": 14,
   "metadata": {},
   "outputs": [
    {
     "name": "stdout",
     "output_type": "stream",
     "text": [
      "LSTM_05_0.001: 0.990234375 240\n",
      "LSTM_05_0.025: 1.0 120\n",
      "LSTM_05_0.25: 1.0 115\n",
      "LSTM_10_0.001: 0.984375 315\n",
      "LSTM_10_0.025: 1.0 185\n",
      "LSTM_10_0.25: 0.099609375 2495\n",
      "LSTM_20_0.001: 0.544921875 2495\n",
      "LSTM_20_0.025: 0.0859375 2495\n",
      "LSTM_20_0.25: 1.0 140\n",
      "LSTM_30_0.001: 0.091796875 2495\n",
      "LSTM_30_0.025: 0.095703125 2495\n",
      "LSTM_30_0.25: 1.0 140\n",
      "LSTM_40_0.001: 0.08203125 2495\n",
      "LSTM_40_0.025: 0.087890625 2495\n",
      "LSTM_40_0.25: 1.0 135\n",
      "LSTM_50_0.001: 0.0859375 2495\n",
      "LSTM_50_0.025: 0.0859375 2495\n",
      "LSTM_50_0.25: 1.0 285\n",
      "RNN_05_0.001: 0.9921875 100\n",
      "RNN_05_0.025: 0.99609375 45\n",
      "RNN_05_0.25: 1.0 25\n",
      "RNN_10_0.001: 0.990234375 140\n",
      "RNN_10_0.025: 0.40234375 2495\n",
      "RNN_10_0.25: 0.1015625 2495\n",
      "RNN_20_0.001: 1.0 530\n",
      "RNN_20_0.025: 0.1015625 2495\n",
      "RNN_20_0.25: 0.099609375 2495\n",
      "RNN_30_0.001: 0.216796875 2495\n",
      "RNN_30_0.025: 0.21875 2495\n",
      "RNN_30_0.25: 0.107421875 2495\n",
      "RNN_40_0 .001_2: 0.201171875 2495\n",
      "RNN_40_0.001: 0.5546875 2495\n",
      "RNN_40_0.025: 0.251953125 2495\n",
      "RNN_40_0.25: 0.185546875 2495\n",
      "RNN_50_0.001: 0.08984375 2495\n",
      "RNN_50_0.025: 0.111328125 2495\n",
      "RNN_50_0.25: 0.08203125 2495\n"
     ]
    },
    {
     "data": {
      "text/plain": [
       "' \\nRNN_05_0.25: 1.0 25\\n\\nRNN_10_0.001: 0.990234375 140 \\n\\nRNN_20_0.001: 1.0 530  \\n \\nRNN_30_0.025: 0.21875 2495 \\n\\nRNN_40_0.001: 0.5546875 2495 \\n \\nRNN_50_0.025: 0.111328125 2495 \\n'"
      ]
     },
     "execution_count": 14,
     "metadata": {},
     "output_type": "execute_result"
    }
   ],
   "source": [
    "\n",
    "RNN_res = []\n",
    "\n",
    "for i, filename in enumerate(files):\n",
    "    ea = eas[i]\n",
    "    \n",
    "    value = 0\n",
    "    for j in range(-4,0):\n",
    "        value += ea.Scalars('accuracy_1')[j][2]\n",
    "    \n",
    "    value = value/4\n",
    "    \n",
    "    step = ea.Scalars('accuracy_1')[-1][1]\n",
    "\n",
    "    \n",
    "    \n",
    "    \n",
    "    model_name = filename.split('/')[-2]\n",
    "    \n",
    "    model_type = filename.split('_')[0]\n",
    "    length = filename.split('_')[1]\n",
    "    lr = filename.split('_')[2]\n",
    "    \n",
    "    print(\"{}: {} {}\".format(model_name, value, step))\n",
    "    \n",
    "    \n",
    "[115, 185, 140, 140, 135, 285]\n",
    "\n",
    "\"\"\" \n",
    "LSTM_05_0.25: 1.0 115\n",
    "\n",
    "LSTM_10_0.025: 1.0 185\n",
    "\n",
    "LSTM_20_0.25: 1.0 140\n",
    "\n",
    "LSTM_30_0.25: 1.0 140\n",
    "\n",
    "LSTM_40_0.25: 1.0 135\n",
    "\n",
    "LSTM_50_0.25: 1.0 285\"\"\n",
    "\"\"\"\n",
    "\n",
    "\"\"\" \n",
    "RNN_05_0.25: 1.0 25\n",
    "\n",
    "RNN_10_0.001: 0.990234375 140 \n",
    "\n",
    "RNN_20_0.001: 1.0 530  \n",
    " \n",
    "RNN_30_0.025: 0.21875 2495 \n",
    "\n",
    "RNN_40_0.001: 0.5546875 2495 \n",
    " \n",
    "RNN_50_0.025: 0.111328125 2495 \n",
    "\"\"\"\n",
    "\n",
    " "
   ]
  }
 ],
 "metadata": {
  "kernelspec": {
   "display_name": "Python 3",
   "language": "python",
   "name": "python3"
  },
  "language_info": {
   "codemirror_mode": {
    "name": "ipython",
    "version": 3
   },
   "file_extension": ".py",
   "mimetype": "text/x-python",
   "name": "python",
   "nbconvert_exporter": "python",
   "pygments_lexer": "ipython3",
   "version": "3.6.3"
  }
 },
 "nbformat": 4,
 "nbformat_minor": 2
}
