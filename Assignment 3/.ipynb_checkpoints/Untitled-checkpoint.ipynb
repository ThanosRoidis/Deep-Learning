{
 "cells": [
  {
   "cell_type": "code",
   "execution_count": 1,
   "metadata": {
    "collapsed": true
   },
   "outputs": [],
   "source": [
    "import numpy as np"
   ]
  },
  {
   "cell_type": "code",
   "execution_count": 8,
   "metadata": {},
   "outputs": [
    {
     "name": "stdout",
     "output_type": "stream",
     "text": [
      "N = 20\n",
      "Unstable: -17.11870029064978\n",
      "Stable:   -17.11870029064978\n",
      "N = 2000\n",
      "Unstable: -inf\n",
      "Stable:   -1994.133836822653\n"
     ]
    },
    {
     "name": "stderr",
     "output_type": "stream",
     "text": [
      "/home/thanos/anaconda3/lib/python3.6/site-packages/ipykernel_launcher.py:7: RuntimeWarning: divide by zero encountered in log\n",
      "  import sys\n"
     ]
    }
   ],
   "source": [
    "def print_log_prob(N):\n",
    "    #Generate random probabilities\n",
    "    P = np.random.rand(N)\n",
    "\n",
    "    print('N = {}'.format(N))\n",
    "    #first method (numerically unstable)\n",
    "    print('Unstable: {}'.format(np.log(np.prod(P))))\n",
    "    #second method (numerically stable)\n",
    "    print('Stable:   {}'.format(np.sum(np.log(P))))\n",
    "\n",
    "\n",
    "print_log_prob(N=20)\n",
    "print_log_prob(N=2000)"
   ]
  },
  {
   "cell_type": "code",
   "execution_count": null,
   "metadata": {
    "collapsed": true
   },
   "outputs": [],
   "source": []
  }
 ],
 "metadata": {
  "kernelspec": {
   "display_name": "Python 3",
   "language": "python",
   "name": "python3"
  },
  "language_info": {
   "codemirror_mode": {
    "name": "ipython",
    "version": 3
   },
   "file_extension": ".py",
   "mimetype": "text/x-python",
   "name": "python",
   "nbconvert_exporter": "python",
   "pygments_lexer": "ipython3",
   "version": "3.6.3"
  }
 },
 "nbformat": 4,
 "nbformat_minor": 2
}
