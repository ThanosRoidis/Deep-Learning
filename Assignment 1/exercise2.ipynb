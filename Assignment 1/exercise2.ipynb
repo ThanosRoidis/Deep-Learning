{
 "cells": [
  {
   "cell_type": "code",
   "execution_count": 1,
   "metadata": {
    "collapsed": true
   },
   "outputs": [],
   "source": [
    "import numpy as np"
   ]
  },
  {
   "cell_type": "code",
   "execution_count": 2,
   "metadata": {
    "collapsed": true
   },
   "outputs": [],
   "source": [
    "X = np.array([[0.75, 0.80],\n",
    "              [0.20, 0.05],\n",
    "              [-0.75, 0.8],\n",
    "              [0.2, -0.05]])\n",
    "\n",
    "W1 = np.array([[0.6, 0.7, 0],\n",
    "               [0.01, 0.43, 0.88]])\n",
    "\n",
    "W2 = np.array([[0.02],[0.03],[0.09]])\n",
    "\n",
    "Y = np.array([[1], [1], [-1], [-1]])"
   ]
  },
  {
   "cell_type": "code",
   "execution_count": 5,
   "metadata": {},
   "outputs": [
    {
     "name": "stdout",
     "output_type": "stream",
     "text": [
      "[[ 1.75  2.8 ]\n",
      " [ 1.2   2.05]\n",
      " [ 0.25  2.8 ]\n",
      " [ 1.2   1.95]]\n"
     ]
    }
   ],
   "source": [
    "print(X + np.asarray([[1,2]]))"
   ]
  },
  {
   "cell_type": "code",
   "execution_count": 3,
   "metadata": {
    "collapsed": true
   },
   "outputs": [],
   "source": [
    "#ReLu\n",
    "def f(x):\n",
    "    return np.maximum(x,0)\n",
    "#ReLu derivative\n",
    "def f_p(x):\n",
    "    x2 = x.copy()\n",
    "    x2[np.where(x2 > 0)] = 1\n",
    "    x2[np.where(x2 < 0)] = 0\n",
    "    \n",
    "    return x2"
   ]
  },
  {
   "cell_type": "code",
   "execution_count": 4,
   "metadata": {},
   "outputs": [
    {
     "name": "stdout",
     "output_type": "stream",
     "text": [
      "[[ 0.458   0.869   0.704 ]\n",
      " [ 0.1205  0.1615  0.044 ]\n",
      " [ 0.      0.      0.704 ]\n",
      " [ 0.1195  0.1185  0.    ]]\n"
     ]
    }
   ],
   "source": [
    "S1 = np.dot(X,W1)\n",
    "Z1 = f(S1)\n",
    "\n",
    "print(Z1)"
   ]
  },
  {
   "cell_type": "code",
   "execution_count": 5,
   "metadata": {},
   "outputs": [
    {
     "name": "stdout",
     "output_type": "stream",
     "text": [
      "[[ 0.09859 ]\n",
      " [ 0.011215]\n",
      " [ 0.06336 ]\n",
      " [ 0.005945]]\n"
     ]
    }
   ],
   "source": [
    "S2 = np.dot(Z1, W2)\n",
    "Z2 = S2\n",
    "Y_out = Z2\n",
    "\n",
    "print(Z2)"
   ]
  },
  {
   "cell_type": "code",
   "execution_count": 6,
   "metadata": {},
   "outputs": [
    {
     "data": {
      "text/plain": [
       "1.9664477984750004"
      ]
     },
     "execution_count": 6,
     "metadata": {},
     "output_type": "execute_result"
    }
   ],
   "source": [
    "L = 0.5 * np.power(Y_out - Y,2)\n",
    "np.sum(L)"
   ]
  },
  {
   "cell_type": "code",
   "execution_count": 7,
   "metadata": {},
   "outputs": [
    {
     "name": "stdout",
     "output_type": "stream",
     "text": [
      "[[-0.90141 ]\n",
      " [-0.988785]\n",
      " [ 1.06336 ]\n",
      " [ 1.005945]]\n"
     ]
    }
   ],
   "source": [
    "#d_out = np.multiply((Y_out - Y),f_p(S2))\n",
    "d_out = np.multiply((Y_out - Y),1)\n",
    "\n",
    "print(d_out)"
   ]
  },
  {
   "cell_type": "code",
   "execution_count": 8,
   "metadata": {},
   "outputs": [
    {
     "name": "stdout",
     "output_type": "stream",
     "text": [
      "[[-0.0180282  -0.0270423  -0.0811269 ]\n",
      " [-0.0197757  -0.02966355 -0.08899065]\n",
      " [ 0.          0.          0.0957024 ]\n",
      " [ 0.0201189   0.03017835  0.        ]]\n"
     ]
    }
   ],
   "source": [
    "d_1 = f_p(S1) * np.dot(W2, d_out.T).T\n",
    "print(d_1)"
   ]
  },
  {
   "cell_type": "code",
   "execution_count": 131,
   "metadata": {},
   "outputs": [
    {
     "name": "stdout",
     "output_type": "stream",
     "text": [
      "[[ 0.03574254  0.0586202   0.01701347]\n",
      " [-0.0242163  -0.02310964 -0.06372963]]\n"
     ]
    }
   ],
   "source": [
    "dW1 = np.dot(X.T , d_1) #/ X.shape[0] \n",
    "print(dW1)"
   ]
  },
  {
   "cell_type": "code",
   "execution_count": 124,
   "metadata": {},
   "outputs": [
    {
     "name": "stdout",
     "output_type": "stream",
     "text": [
      "[[ 0.00589448]\n",
      " [-0.0441525 ]\n",
      " [ 0.01659295]]\n"
     ]
    }
   ],
   "source": [
    "dW2 = np.dot(Z1.T , d_out) #/ X.shape[0]\n",
    "print(dW2)"
   ]
  },
  {
   "cell_type": "code",
   "execution_count": 125,
   "metadata": {
    "collapsed": true
   },
   "outputs": [],
   "source": [
    "a = 0.5\n",
    "\n",
    "W1 = W1 - a * dW1\n",
    "W2 = W2 - a * dW2"
   ]
  },
  {
   "cell_type": "code",
   "execution_count": null,
   "metadata": {
    "collapsed": true
   },
   "outputs": [],
   "source": []
  },
  {
   "cell_type": "code",
   "execution_count": null,
   "metadata": {
    "collapsed": true
   },
   "outputs": [],
   "source": []
  }
 ],
 "metadata": {
  "kernelspec": {
   "display_name": "Python 2",
   "language": "python",
   "name": "python2"
  },
  "language_info": {
   "codemirror_mode": {
    "name": "ipython",
    "version": 3
   },
   "file_extension": ".py",
   "mimetype": "text/x-python",
   "name": "python",
   "nbconvert_exporter": "python",
   "pygments_lexer": "ipython3",
   "version": "3.6.3"
  }
 },
 "nbformat": 4,
 "nbformat_minor": 2
}
